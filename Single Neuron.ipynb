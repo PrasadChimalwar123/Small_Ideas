{
 "cells": [
  {
   "cell_type": "code",
   "execution_count": 4,
   "metadata": {},
   "outputs": [
    {
     "name": "stdout",
     "output_type": "stream",
     "text": [
      "Neuron output: 0.00\n"
     ]
    },
    {
     "data": {
      "text/plain": [
       "'\\nExplanation :\\n= 2.0*0.5 + 3.0*-0.6 + -1*0.2  + 1 \\n= 1 -1.8 -0.2 - 1 \\n= -1.8 -0.2\\n= -2\\n\\nStep 2 : \\nmax(-2,0)\\n0\\n\\n'"
      ]
     },
     "execution_count": 4,
     "metadata": {},
     "output_type": "execute_result"
    }
   ],
   "source": [
    "import numpy as np\n",
    "\n",
    "# Define the neuron\n",
    "def neuron(inputs, weights, bias):\n",
    "    \"\"\"\n",
    "    Mimics the behavior of a single neuron.\n",
    "    Returns:\n",
    "        float: Output of the neuron after applying the activation function.\n",
    "    \"\"\"\n",
    "    # Calculate the weighted sum (z = w1*x1 + w2*x2 + ... + wn*xn + b)\n",
    "    weighted_sum = np.dot(inputs, weights) + bias\n",
    "    \n",
    "    # Apply an activation function (ReLU in this case)\n",
    "    output = relu(weighted_sum)\n",
    "    \n",
    "    return output\n",
    "\n",
    "# Activation function (ReLU in this case)\n",
    "def relu(x):\n",
    "    \"\"\"ReLU activation function: max(0, x)\"\"\"\n",
    "    return max(0, x)\n",
    "\n",
    "# Example usage\n",
    "if __name__ == \"__main__\":\n",
    "    # Define inputs, weights, and bias\n",
    "    inputs = [2.0, 3.0, -1.0]  # Example inputs\n",
    "    weights = [0.5, -0.6, 0.2]  # Example weights\n",
    "    bias = 1.0  # Example bias\n",
    "    \n",
    "    # Compute the output of the neuron\n",
    "    output = neuron(inputs, weights, bias)\n",
    "    print(f\"Neuron output: {output:.2f}\")\n",
    "    \n",
    "    \n",
    "    \n",
    "\"\"\"\n",
    "Explanation :\n",
    "= 2.0*0.5 + 3.0*-0.6 + -1*0.2  + 1 \n",
    "= 1 -1.8 -0.2 - 1 \n",
    "= -1.8 -0.2\n",
    "= -2\n",
    "\n",
    "Step 2 : \n",
    "max(-2,0)\n",
    "\n",
    "\n",
    "Final Result : 0\n",
    "\n",
    "\"\"\""
   ]
  },
  {
   "cell_type": "raw",
   "metadata": {},
   "source": []
  },
  {
   "cell_type": "code",
   "execution_count": null,
   "metadata": {},
   "outputs": [],
   "source": []
  }
 ],
 "metadata": {
  "kernelspec": {
   "display_name": "Python 3",
   "language": "python",
   "name": "python3"
  },
  "language_info": {
   "codemirror_mode": {
    "name": "ipython",
    "version": 3
   },
   "file_extension": ".py",
   "mimetype": "text/x-python",
   "name": "python",
   "nbconvert_exporter": "python",
   "pygments_lexer": "ipython3",
   "version": "3.8.5"
  }
 },
 "nbformat": 4,
 "nbformat_minor": 4
}
